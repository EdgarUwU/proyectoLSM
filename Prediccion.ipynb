{
 "cells": [
  {
   "cell_type": "code",
   "execution_count": 2,
   "metadata": {},
   "outputs": [],
   "source": [
    "import cv2\n",
    "import mediapipe as mp\n",
    "import os\n",
    "import numpy as np\n",
    "from keras_preprocessing.image import  img_to_array\n",
    "from keras.models import load_model"
   ]
  },
  {
   "cell_type": "code",
   "execution_count": 3,
   "metadata": {},
   "outputs": [
    {
     "ename": "FileNotFoundError",
     "evalue": "[WinError 3] El sistema no puede encontrar la ruta especificada: 'C:/Developer/upn/Lenguaje/Validacion'",
     "output_type": "error",
     "traceback": [
      "\u001b[1;31m---------------------------------------------------------------------------\u001b[0m",
      "\u001b[1;31mFileNotFoundError\u001b[0m                         Traceback (most recent call last)",
      "\u001b[1;32mc:\\Users\\edgar\\Documents\\proyectoLSM\\Prediccion.ipynb Celda 2\u001b[0m in \u001b[0;36m<cell line: 7>\u001b[1;34m()\u001b[0m\n\u001b[0;32m      <a href='vscode-notebook-cell:/c%3A/Users/edgar/Documents/proyectoLSM/Prediccion.ipynb#ch0000001?line=3'>4</a>\u001b[0m cnn\u001b[39m.\u001b[39mload_weights(peso)  \u001b[39m#Cargamos los pesos\u001b[39;00m\n\u001b[0;32m      <a href='vscode-notebook-cell:/c%3A/Users/edgar/Documents/proyectoLSM/Prediccion.ipynb#ch0000001?line=5'>6</a>\u001b[0m direccion \u001b[39m=\u001b[39m \u001b[39m'\u001b[39m\u001b[39mC:/Developer/upn/Lenguaje/Validacion\u001b[39m\u001b[39m'\u001b[39m\n\u001b[1;32m----> <a href='vscode-notebook-cell:/c%3A/Users/edgar/Documents/proyectoLSM/Prediccion.ipynb#ch0000001?line=6'>7</a>\u001b[0m dire_img \u001b[39m=\u001b[39m os\u001b[39m.\u001b[39;49mlistdir(direccion)\n\u001b[0;32m      <a href='vscode-notebook-cell:/c%3A/Users/edgar/Documents/proyectoLSM/Prediccion.ipynb#ch0000001?line=7'>8</a>\u001b[0m \u001b[39mprint\u001b[39m(\u001b[39m\"\u001b[39m\u001b[39mNombres: \u001b[39m\u001b[39m\"\u001b[39m, dire_img)\n",
      "\u001b[1;31mFileNotFoundError\u001b[0m: [WinError 3] El sistema no puede encontrar la ruta especificada: 'C:/Developer/upn/Lenguaje/Validacion'"
     ]
    }
   ],
   "source": [
    "modelo = './ModeloLetras.h5'\n",
    "peso =  './PesosLetras.h5'\n",
    "cnn = load_model(modelo)  #Cargamos el modelo\n",
    "cnn.load_weights(peso)  #Cargamos los pesos\n",
    "\n",
    "direccion = 'C:/Developer/upn/Lenguaje/Validacion'\n",
    "dire_img = os.listdir(direccion)\n",
    "print(\"Nombres: \", dire_img)"
   ]
  },
  {
   "cell_type": "code",
   "execution_count": null,
   "metadata": {},
   "outputs": [],
   "source": [
    "#Leemos la camara\n",
    "cap = cv2.VideoCapture(0)\n",
    "\n",
    "#----------------------------Creamos un obejto que va almacenar la deteccion y el seguimiento de las manos------------\n",
    "clase_manos  =  mp.solutions.hands\n",
    "manos = clase_manos.Hands() #Primer parametro, FALSE para que no haga la deteccion 24/7\n",
    "                            #Solo hara deteccion cuando hay una confianza alta\n",
    "                            #Segundo parametro: numero maximo de manos\n",
    "                            #Tercer parametro: confianza minima de deteccion\n",
    "                            #Cuarto parametro: confianza minima de seguimiento\n",
    "\n",
    "#----------------------------------Metodo para dibujar las manos---------------------------\n",
    "dibujo = mp.solutions.drawing_utils #Con este metodo dibujamos 21 puntos criticos de la mano\n",
    "\n",
    "\n",
    "while (1):\n",
    "    ret,frame = cap.read()\n",
    "    color = cv2.cvtColor(frame, cv2.COLOR_BGR2RGB)\n",
    "    copia = frame.copy()\n",
    "    resultado = manos.process(color)\n",
    "    posiciones = []  # En esta lista vamos a almcenar las coordenadas de los puntos\n",
    "    #print(resultado.multi_hand_landmarks) #Si queremos ver si existe la deteccion\n",
    "\n",
    "    if resultado.multi_hand_landmarks: #Si hay algo en los resultados entramos al if\n",
    "        for mano in resultado.multi_hand_landmarks:  #Buscamos la mano dentro de la lista de manos que nos da el descriptor\n",
    "            for id, lm in enumerate(mano.landmark):  #Vamos a obtener la informacion de cada mano encontrada por el ID\n",
    "                alto, ancho, c = frame.shape  #Extraemos el ancho y el alto de los fotpgramas para multiplicarlos por la proporcion\n",
    "                corx, cory = int(lm.x*ancho), int(lm.y*alto) #Extraemos la ubicacion de cada punto que pertence a la mano en coordenadas\n",
    "                posiciones.append([id,corx,cory])\n",
    "                dibujo.draw_landmarks(frame, mano, clase_manos.HAND_CONNECTIONS)\n",
    "            if len(posiciones) != 0:\n",
    "                pto_i1 = posiciones[3] #5 Dedos: 4 | 0 Dedos: 3 | 1 Dedo: 2 | 2 Dedos: 3 | 3 Dedos: 4 | 4 Dedos: 8\n",
    "                pto_i2 = posiciones[17]#5 Dedos: 20| 0 Dedos: 17| 1 Dedo: 17| 2 Dedos: 20| 3 Dedos: 20| 4 Dedos: 20\n",
    "                pto_i3 = posiciones[10]#5 Dedos: 12| 0 Dedos: 10 | 1 Dedo: 20|2 Dedos: 16| 3 Dedos: 12| 4 Dedos: 12\n",
    "                pto_i4 = posiciones[0] #5 Dedos: 0 | 0 Dedos: 0 | 1 Dedo: 0 | 2 Dedos: 0 | 3 Dedos: 0 | 4 Dedos: 0\n",
    "                pto_i5 = posiciones[9]\n",
    "                x1,y1 = (pto_i5[1]-100),(pto_i5[2]-100) #Obtenemos el punto incial y las longitudes\n",
    "                ancho, alto = (x1+200),(y1+200)\n",
    "                x2,y2 = x1 + ancho, y1 + alto\n",
    "                dedos_reg = copia[y1:y2, x1:x2]\n",
    "                dedos_reg = cv2.resize(dedos_reg, (200, 200), interpolation=cv2.INTER_CUBIC)  # Redimensionamos las fotos\n",
    "                x = img_to_array(dedos_reg)  # Convertimos la imagen a una matriz\n",
    "                x = np.expand_dims(x, axis=0)  # Agregamos nuevo eje\n",
    "                vector = cnn.predict(x)  # Va a ser un arreglo de 2 dimensiones, donde va a poner 1 en la clase que crea correcta\n",
    "                resultado = vector[0]  # [1,0] | [0, 1]\n",
    "                respuesta = np.argmax(resultado)  # Nos entrega el indice del valor mas alto 0 | 1\n",
    "                if respuesta == 0:\n",
    "                    print(vector,resultado)\n",
    "                    cv2.rectangle(frame, (x1, y1), (x2, y2), (0, 255, 0), 3)\n",
    "                    cv2.putText(frame, '{}'.format(dire_img[0]), (x1, y1 - 5), 1, 1.3, (0, 255, 0), 1, cv2.LINE_AA)\n",
    "                elif respuesta == 1:\n",
    "                    print(vector,resultado)\n",
    "                    cv2.rectangle(frame, (x1, y1), (x2, y2), (0, 255, 0), 3)\n",
    "                    cv2.putText(frame, '{}'.format(dire_img[1]), (x1, y1 - 5), 1, 1.3, (0, 255, 0), 1, cv2.LINE_AA)\n",
    "                elif respuesta == 2:\n",
    "                    print(vector,resultado)\n",
    "                    cv2.rectangle(frame, (x1, y1), (x2, y2), (0, 255, 0), 3)\n",
    "                    cv2.putText(frame, '{}'.format(dire_img[2]), (x1, y1 - 5), 1, 1.3, (0, 255, 0), 1, cv2.LINE_AA)\n",
    "                elif respuesta == 3:\n",
    "                    print(vector,resultado)\n",
    "                    cv2.rectangle(frame, (x1, y1), (x2, y2), (0, 255, 0), 3)\n",
    "                    cv2.putText(frame, '{}'.format(dire_img[3]), (x1, y1 - 5), 1, 1.3, (0, 255, 0), 1, cv2.LINE_AA)\n",
    "                elif respuesta == 4:\n",
    "                    print(vector,resultado)\n",
    "                    cv2.rectangle(frame, (x1, y1), (x2, y2), (0, 255, 0), 3)\n",
    "                    cv2.putText(frame, '{}'.format(dire_img[4]), (x1, y1 - 5), 1, 1.3, (0, 255, 0), 1, cv2.LINE_AA)\n",
    "                else:\n",
    "                    cv2.putText(frame, 'Letra Desconocida', (x1, y1 - 5), 1, 1.3, (0, 255, 0), 1, cv2.LINE_AA)\n",
    "    cv2.imshow(\"Video\",frame)\n",
    "    k = cv2.waitKey(1)\n",
    "    if k == 27:\n",
    "        break\n",
    "cap.release()\n",
    "cv2.destroyAllWindows()\n",
    "\n"
   ]
  }
 ],
 "metadata": {
  "kernelspec": {
   "display_name": "Python 3.9.10 64-bit",
   "language": "python",
   "name": "python3"
  },
  "language_info": {
   "codemirror_mode": {
    "name": "ipython",
    "version": 3
   },
   "file_extension": ".py",
   "mimetype": "text/x-python",
   "name": "python",
   "nbconvert_exporter": "python",
   "pygments_lexer": "ipython3",
   "version": "3.9.10"
  },
  "orig_nbformat": 4,
  "vscode": {
   "interpreter": {
    "hash": "fd6de60cc202df302348488ddc539a0b871575196ba754f9909c09dd4d1cd470"
   }
  }
 },
 "nbformat": 4,
 "nbformat_minor": 2
}
